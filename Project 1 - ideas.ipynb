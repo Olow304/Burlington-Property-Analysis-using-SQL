{
 "cells": [
  {
   "cell_type": "markdown",
   "metadata": {},
   "source": [
    "Saleban Olow<br>\n",
    "Project One\n",
    "\n",
    "## Overall \n",
    "Analyzing Burlington housing data using MySQL. This dataset includes a lot of information about every taxable property in Burlington. I am analyzing the affect of \"grade\", \"building type\", \"land use\", \"year build\", \"closet to part\" to building value.\n",
    "\n",
    "Here is my questions:<br>\n",
    "<b>Does the house that is closest to park will effect the building's value?<br></b>\n",
    "<b>How does year built in effect house value?<br></b>\n",
    "<b>What building type was most popular in each decade?</b> or <b>how does the building type affect the house value?<br></b>\n",
    "<b>How does the condition (grade) will affect the house value?<br></b>\n",
    "<b>How the improvement of the park will affect the house value?</b>\n"
   ]
  },
  {
   "cell_type": "markdown",
   "metadata": {},
   "source": [
    "You should have at least five interesting questions that you want to answer. You should then proceed to design tables that will hold the data that you will need for your analysis. Your project should be of a complexity such that it utilizes more than one table. The tables should have a relationship with one another that requires the utilization of JOIN statements. Create a diagram of your tables and include it with your final report.\n",
    "\n",
    "### I am dividing the whole data into two dataset, \n",
    "<b>Full data</b><br>\n",
    "BuildingType <br>\n",
    "Grade <br>\n",
    "LandUse <br>\n",
    "CurrentBuildingValue <br>\n",
    "PropertyCenterPoint <br>\n",
    "ShortestDistance <br>\n",
    "ClosestPark <br>\n",
    "<br>\n",
    "<b>Sub data (park dataset) </b><br>\n",
    "Project <br>\n",
    "Location <br>\n",
    "ProjectCost <br>\n",
    "\n"
   ]
  },
  {
   "cell_type": "markdown",
   "metadata": {},
   "source": [
    "### Final Report\n",
    "We must use <b>WHERE</b> clauses, <b>JOIN</b> clauses, and <b>ORDER</b> clauses.<br>\n",
    "Your final report should include two files. One should be a text file containing MySQL commands that can recreate your project. The other should be a short report (2-4 pages) explaining your project’s goals, its results, and how you used MySQL. Be sure to include your results tables in\n",
    "the report, nicely formatted for human consumption."
   ]
  },
  {
   "cell_type": "code",
   "execution_count": null,
   "metadata": {
    "collapsed": true
   },
   "outputs": [],
   "source": []
  }
 ],
 "metadata": {
  "kernelspec": {
   "display_name": "Python 3",
   "language": "python",
   "name": "python3"
  },
  "language_info": {
   "codemirror_mode": {
    "name": "ipython",
    "version": 3
   },
   "file_extension": ".py",
   "mimetype": "text/x-python",
   "name": "python",
   "nbconvert_exporter": "python",
   "pygments_lexer": "ipython3",
   "version": "3.6.3"
  },
  "toc": {
   "nav_menu": {},
   "number_sections": true,
   "sideBar": true,
   "skip_h1_title": false,
   "toc_cell": false,
   "toc_position": {},
   "toc_section_display": "block",
   "toc_window_display": false
  },
  "varInspector": {
   "cols": {
    "lenName": 16,
    "lenType": 16,
    "lenVar": 40
   },
   "kernels_config": {
    "python": {
     "delete_cmd_postfix": "",
     "delete_cmd_prefix": "del ",
     "library": "var_list.py",
     "varRefreshCmd": "print(var_dic_list())"
    },
    "r": {
     "delete_cmd_postfix": ") ",
     "delete_cmd_prefix": "rm(",
     "library": "var_list.r",
     "varRefreshCmd": "cat(var_dic_list()) "
    }
   },
   "types_to_exclude": [
    "module",
    "function",
    "builtin_function_or_method",
    "instance",
    "_Feature"
   ],
   "window_display": false
  }
 },
 "nbformat": 4,
 "nbformat_minor": 2
}
